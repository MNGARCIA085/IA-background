{
 "cells": [
  {
   "cell_type": "markdown",
   "id": "17504d28",
   "metadata": {},
   "source": [
    "# <center> <font color='green'> <b> Object Oriented Programming </b> </font> </center>\n"
   ]
  },
  {
   "cell_type": "markdown",
   "id": "ad0956d7",
   "metadata": {},
   "source": [
    "## Table of contents\n",
    "- [1 - Definition](#1)\n",
    "- [2 - Classes and objects](#2)\n",
    "- [3 - Types of attributes and methods](#3)\n",
    "    - [3.1 - Attributes](#3.1)\n",
    "    - [3.2 - Methods](#3.2)\n",
    "- [4 - Encapsulation](#4)\n",
    "- [5 - Inheritance](#5)\n",
    "- [6 - Polymorphism](#6)\n",
    "- [7 - Abstract Classes](#7)\n",
    "\n"
   ]
  },
  {
   "cell_type": "markdown",
   "id": "2cd985b8",
   "metadata": {},
   "source": [
    "<a name=\"1\"></a>\n",
    "## <b> <font color=' #16a085'> 1. Definition  </b> </font>"
   ]
  },
  {
   "cell_type": "markdown",
   "id": "ceb68d00",
   "metadata": {},
   "source": [
    "Object-oriented programming (OOP) is a programming paradigm based on the concept of objects,[1] which can contain data and code: data in the form of fields (often known as attributes or properties), and code in the form of procedures (often known as methods). In OOP, computer programs are designed by making them out of objects that interact with one another.\n",
    "\n",
    "https://en.wikipedia.org/wiki/Object-oriented_programming\n",
    "\n"
   ]
  },
  {
   "cell_type": "markdown",
   "id": "f711c93b",
   "metadata": {},
   "source": [
    "<a name=\"2\"></a>\n",
    "## <b> <font color=' #16a085'> 2. Classes and objects  </b> </font>"
   ]
  },
  {
   "cell_type": "markdown",
   "id": "94128ae1",
   "metadata": {},
   "source": [
    "We define a class called \"vehicule\" with:\n",
    "\n",
    "- attributes\n",
    "    - brand\n",
    "    - model\n",
    "    - year\n",
    "    - color\n",
    "    \n",
    "    \n",
    "- methods:\n",
    "    - __init__ (constructor)\n",
    "    - get_info\n"
   ]
  },
  {
   "cell_type": "code",
   "execution_count": 38,
   "id": "0c083795",
   "metadata": {},
   "outputs": [],
   "source": [
    "class Vehicule:\n",
    "    def __init__(self, brand, model, year, color):\n",
    "        self.brand = brand\n",
    "        self.model = model\n",
    "        self.year = year\n",
    "        self.color = color\n",
    "    \n",
    "    def get_info(self):\n",
    "        return f\"{self.brand} {self.model} del año {self.year}, color {self.color}\""
   ]
  },
  {
   "cell_type": "code",
   "execution_count": 6,
   "id": "09da6ac0",
   "metadata": {},
   "outputs": [
    {
     "data": {
      "text/plain": [
       "__main__.Vehicule"
      ]
     },
     "execution_count": 6,
     "metadata": {},
     "output_type": "execute_result"
    }
   ],
   "source": [
    "# creamos un objeto y vemos su tipo\n",
    "my_vehicule = Vehicule('Toyota','Corolla','2010','blue')\n",
    "\n",
    "type(my_vehicule)"
   ]
  },
  {
   "cell_type": "code",
   "execution_count": 7,
   "id": "5d014fa2",
   "metadata": {},
   "outputs": [
    {
     "name": "stdout",
     "output_type": "stream",
     "text": [
      "Toyota\n",
      "\n",
      "Toyota Corolla del año 2010, color blue\n"
     ]
    }
   ],
   "source": [
    "# accedemos a los atributos y métodos del objeto\n",
    "\n",
    "print(my_vehicule.brand)\n",
    "\n",
    "print()\n",
    "\n",
    "print(my_vehicule.get_info())\n"
   ]
  },
  {
   "cell_type": "markdown",
   "id": "8800e29b",
   "metadata": {},
   "source": [
    "<a name=\"3\"></a>\n",
    "## <b> <font color=' #16a085'> 3. Types of attributes and methods  </b> </font>"
   ]
  },
  {
   "cell_type": "markdown",
   "id": "dffc9e46",
   "metadata": {},
   "source": [
    "<a name=\"3.1\"></a>\n",
    "### 3.1. Attributes\n",
    "\n",
    "In Python, there are two types of attributes for classes: \n",
    "\n",
    "- Instance attributes \n",
    "- Class attributes."
   ]
  },
  {
   "cell_type": "markdown",
   "id": "845c2784",
   "metadata": {},
   "source": [
    "**Instance Attributes:**\n",
    "\n",
    "    Instance attributes are specific to each instance of a class.\n",
    "    They are defined within the constructor method __init__() and are accessed using the self keyword.\n",
    "    Instance attributes represent the state of individual objects.\n"
   ]
  },
  {
   "cell_type": "code",
   "execution_count": 27,
   "id": "7ee428e4",
   "metadata": {},
   "outputs": [
    {
     "name": "stdout",
     "output_type": "stream",
     "text": [
      "Toyota\n",
      "Corolla\n"
     ]
    }
   ],
   "source": [
    "class Car:\n",
    "    def __init__(self, brand, model):\n",
    "        self.brand = brand    # Instance attribute\n",
    "        self.model = model    # Instance attribute\n",
    "\n",
    "my_car = Car(\"Toyota\", \"Corolla\")\n",
    "print(my_car.brand)  # Output: Toyota\n",
    "print(my_car.model)  # Output: Corolla\n"
   ]
  },
  {
   "cell_type": "markdown",
   "id": "4bb972c7",
   "metadata": {},
   "source": [
    "**Class Attributes:**\n",
    "\n",
    "    Class attributes are shared by all instances of a class.\n",
    "    They are defined outside the constructor method and are accessed using the class name.\n",
    "    Class attributes represent attributes that are common to all instances of the class."
   ]
  },
  {
   "cell_type": "code",
   "execution_count": 28,
   "id": "c8973476",
   "metadata": {},
   "outputs": [
    {
     "name": "stdout",
     "output_type": "stream",
     "text": [
      "Sedan\n",
      "Sedan\n"
     ]
    }
   ],
   "source": [
    "class Car:\n",
    "    # Class attribute\n",
    "    category = \"Sedan\"\n",
    "\n",
    "    def __init__(self, brand, model):\n",
    "        self.brand = brand    # Instance attribute\n",
    "        self.model = model    # Instance attribute\n",
    "\n",
    "my_car1 = Car(\"Toyota\", \"Corolla\")\n",
    "my_car2 = Car(\"Honda\", \"Civic\")\n",
    "print(my_car1.category)  # Output: Sedan\n",
    "print(my_car2.category)  # Output: Sedan\n"
   ]
  },
  {
   "cell_type": "markdown",
   "id": "aa3135fa",
   "metadata": {},
   "source": [
    "In the example above, category is a class attribute shared by all instances of the Car class, while brand and model are instance attributes specific to each instance of the class"
   ]
  },
  {
   "cell_type": "markdown",
   "id": "dc6cdf13",
   "metadata": {},
   "source": [
    "<a name=\"3.2\"></a>\n",
    "### 3.2. Methods\n",
    "\n",
    "There are three types of methods in classes: \n",
    "    \n",
    "- Instance methods\n",
    "- Static methods\n",
    "- Class methods"
   ]
  },
  {
   "cell_type": "markdown",
   "id": "66def5dc",
   "metadata": {},
   "source": [
    "**Instance Methods:**\n",
    "\n",
    "- Instance methods are the most common type of methods in Python classes.\n",
    "- They operate on instances of the class and have access to instance attributes and can modify them.\n",
    "- They are defined with the self parameter in the method signature.\n",
    "- They are often used to encapsulate behavior that is specific to each instance of the class.\n",
    "- Common use cases include:\n",
    "    - Performing calculations or operations based on instance attributes.\n",
    "    - Modifying instance attributes based on specific conditions.\n",
    "    - Interacting with other instance methods to perform complex operations on the instance data."
   ]
  },
  {
   "cell_type": "code",
   "execution_count": 33,
   "id": "276b4cd4",
   "metadata": {},
   "outputs": [
    {
     "name": "stdout",
     "output_type": "stream",
     "text": [
      "This is an instance method\n"
     ]
    }
   ],
   "source": [
    "class MyClass:\n",
    "    def instance_method(self):\n",
    "        print(\"This is an instance method\")\n",
    "\n",
    "obj = MyClass()\n",
    "obj.instance_method()  # This calls the instance method\n"
   ]
  },
  {
   "cell_type": "code",
   "execution_count": 37,
   "id": "cadf804a",
   "metadata": {},
   "outputs": [
    {
     "name": "stdout",
     "output_type": "stream",
     "text": [
      "Brand: Toyota, Model: Corolla\n"
     ]
    }
   ],
   "source": [
    "# another example\n",
    "\n",
    "class Car:\n",
    "    def __init__(self, brand, model):\n",
    "        self.brand = brand\n",
    "        self.model = model\n",
    "\n",
    "    def display_info(self):\n",
    "        return f\"Brand: {self.brand}, Model: {self.model}\"\n",
    "\n",
    "my_car = Car(\"Toyota\", \"Corolla\")\n",
    "print(my_car.display_info())  # Output: Brand: Toyota, Model: Corolla\n"
   ]
  },
  {
   "cell_type": "markdown",
   "id": "2af628eb",
   "metadata": {},
   "source": [
    "**Static Methods:**\n",
    "\n",
    "- Static methods are methods that are bound to the class rather than the object instance.\n",
    "- They don't have access to instance attributes or class attributes.\n",
    "- They are defined using the @staticmethod decorator.\n",
    "- They are often used for utility functions or helper functions that do not require access to instance attributes or class attributes.\n",
    "- Common use cases include:\n",
    "    - Helper functions that perform a specific task and do not need access to instance or class data.\n",
    "    - Functions that perform operations on input data without requiring access to instance or class state.\n",
    "    - Utility functions that perform common tasks across multiple instances or classes.\n"
   ]
  },
  {
   "cell_type": "code",
   "execution_count": 35,
   "id": "112299af",
   "metadata": {},
   "outputs": [
    {
     "name": "stdout",
     "output_type": "stream",
     "text": [
      "This is a static method\n"
     ]
    }
   ],
   "source": [
    "class MyClass:\n",
    "    @staticmethod\n",
    "    def static_method():\n",
    "        print(\"This is a static method\")\n",
    "\n",
    "MyClass.static_method()  # This calls the static method\n"
   ]
  },
  {
   "cell_type": "code",
   "execution_count": 36,
   "id": "0fc99154",
   "metadata": {},
   "outputs": [
    {
     "name": "stdout",
     "output_type": "stream",
     "text": [
      "8\n",
      "3\n"
     ]
    }
   ],
   "source": [
    "\n",
    "# another example\n",
    "\n",
    "class MathOperations:\n",
    "    @staticmethod\n",
    "    def add(x, y):\n",
    "        return x + y\n",
    "\n",
    "    @staticmethod\n",
    "    def subtract(x, y):\n",
    "        return x - y\n",
    "\n",
    "result_add = MathOperations.add(5, 3)\n",
    "result_subtract = MathOperations.subtract(10, 7)\n",
    "print(result_add)        # Output: 8\n",
    "print(result_subtract)   # Output: 3\n",
    "\n",
    "\n"
   ]
  },
  {
   "cell_type": "markdown",
   "id": "0cfeac59",
   "metadata": {},
   "source": [
    "**Class Methods:**\n",
    "\n",
    "- Class methods are methods that are bound to the class itself, rather than the object instance or static methods.\n",
    "- They have access to class attributes and can modify them.\n",
    "- They are defined using the @classmethod decorator and have the cls parameter in the method signature to refer to the class itself.\n",
    "- They are often used to modify class-level attributes or to perform operations that affect the class as a whole.\n",
    "- Common use cases include:\n",
    "    - Factory methods that create instances of the class with specific configurations.\n",
    "    - Methods that modify class-level attributes or perform operations on class-level data.\n",
    "    - Static methods that require access to class-level data but don't depend on instance state."
   ]
  },
  {
   "cell_type": "code",
   "execution_count": 31,
   "id": "7be426cb",
   "metadata": {},
   "outputs": [
    {
     "name": "stdout",
     "output_type": "stream",
     "text": [
      "This is a class method\n",
      "Class Attribute\n"
     ]
    }
   ],
   "source": [
    "class MyClass:\n",
    "    class_attr = \"Class Attribute\"\n",
    "\n",
    "    @classmethod\n",
    "    def class_method(cls):\n",
    "        print(\"This is a class method\")\n",
    "        print(cls.class_attr)\n",
    "\n",
    "MyClass.class_method()  # This calls the class method\n"
   ]
  },
  {
   "cell_type": "code",
   "execution_count": 34,
   "id": "bc53919d",
   "metadata": {},
   "outputs": [
    {
     "name": "stdout",
     "output_type": "stream",
     "text": [
      "Total cars: 2\n"
     ]
    }
   ],
   "source": [
    "# another example\n",
    "\n",
    "class Car:\n",
    "    total_cars = 0\n",
    "\n",
    "    def __init__(self, brand, model):\n",
    "        self.brand = brand\n",
    "        self.model = model\n",
    "        Car.total_cars += 1\n",
    "\n",
    "    @classmethod\n",
    "    def display_total_cars(cls):\n",
    "        return f\"Total cars: {cls.total_cars}\"\n",
    "\n",
    "car1 = Car(\"Toyota\", \"Corolla\")\n",
    "car2 = Car(\"Honda\", \"Civic\")\n",
    "print(Car.display_total_cars())  # Output: Total cars: 2\n",
    "\n"
   ]
  },
  {
   "cell_type": "markdown",
   "id": "2afa48e3",
   "metadata": {},
   "source": [
    "display_total_cars() is a class method because it operates on the class itself to track the total number of cars instantiated. It uses the cls parameter to access class-level attribute"
   ]
  },
  {
   "cell_type": "markdown",
   "id": "535f5618",
   "metadata": {},
   "source": [
    "In summary, instance methods are used to work with instance-specific data, static methods are used for utility functions that don't depend on instance or class state, and class methods are used to work with class-level data."
   ]
  },
  {
   "cell_type": "markdown",
   "id": "5e19ebff",
   "metadata": {},
   "source": [
    "<a name=\"4\"></a>\n",
    "## <b> <font color=' #16a085'> 4. Encapsulation  </b> </font>\n",
    "\n",
    "Encapsulation refers to the concept of bundling data (attributes) and methods (functions) that operate on the data into a single unit called a class. It allows us to control the access to data by hiding the implementation details from the outside world."
   ]
  },
  {
   "cell_type": "code",
   "execution_count": 24,
   "id": "c7c1cbbc",
   "metadata": {},
   "outputs": [
    {
     "name": "stdout",
     "output_type": "stream",
     "text": [
      "Toyota\n",
      "Corolla\n",
      "Honda\n",
      "Civic\n"
     ]
    }
   ],
   "source": [
    "class Car:\n",
    "    def __init__(self, brand, model):\n",
    "        self.__brand = brand\n",
    "        self.__model = model\n",
    "\n",
    "    def get_brand(self):\n",
    "        return self.__brand\n",
    "\n",
    "    def get_model(self):\n",
    "        return self.__model\n",
    "\n",
    "    def set_brand(self, brand):\n",
    "        self.__brand = brand\n",
    "\n",
    "    def set_model(self, model):\n",
    "        self.__model = model\n",
    "\n",
    "# Creating an instance of the Car class\n",
    "my_car = Car(\"Toyota\", \"Corolla\")\n",
    "\n",
    "# Trying to access the attributes directly (which should be avoided)\n",
    "# This will raise an AttributeError\n",
    "# print(my_car.__brand)\n",
    "\n",
    "# Accessing the attributes using getter methods\n",
    "print(my_car.get_brand())  # Output: Toyota\n",
    "print(my_car.get_model())  # Output: Corolla\n",
    "\n",
    "# Modifying the attributes using setter methods\n",
    "my_car.set_brand(\"Honda\")\n",
    "my_car.set_model(\"Civic\")\n",
    "\n",
    "print(my_car.get_brand())  # Output: Honda\n",
    "print(my_car.get_model())  # Output: Civic\n"
   ]
  },
  {
   "cell_type": "markdown",
   "id": "00d96ef6",
   "metadata": {},
   "source": [
    "In this example, the attributes \\__brand and \\__model of the Car class are encapsulated by making them private (using double underscores). This means they cannot be accessed directly from outside the class. Instead, we use getter and setter methods to access and modify the attributes, thus encapsulating the data and providing controlled access to it.\n",
    "\n",
    "In Python, there are no true private attributes or methods as you might find in some other object-oriented programming languages like Java. The use of a single underscore _ at the beginning of a variable or method name is indeed a convention to indicate that it should be treated as a non-public part of the API and that it should not be accessed directly from outside the class.\n",
    "\n",
    "However, using double underscores __ (also known as name mangling) does invoke a form of name mangling, which changes the name of the attribute in a way that makes it harder to create naming conflicts in subclasses. It does not truly make the attribute private, as it can still be accessed from outside the class, but it does make it more difficult to access without explicitly referring to the mangled name."
   ]
  },
  {
   "cell_type": "markdown",
   "id": "63ecf13a",
   "metadata": {},
   "source": [
    "<a name=\"5\"></a>\n",
    "## <b> <font color=' #16a085'> 5. Inheritance  </b> </font>"
   ]
  },
  {
   "cell_type": "markdown",
   "id": "034c7474",
   "metadata": {},
   "source": [
    "We will implement the following diagram:\n",
    "\n",
    "<img src=\"images/inheritance.png\">\n",
    "\n",
    "\n",
    "\n"
   ]
  },
  {
   "cell_type": "code",
   "execution_count": 12,
   "id": "328f8002",
   "metadata": {},
   "outputs": [],
   "source": [
    "class Vehicle:\n",
    "    def __init__(self, brand, model, year, color):\n",
    "        self.brand = brand\n",
    "        self.model = model\n",
    "        self.year = year\n",
    "        self.color = color\n",
    "    \n",
    "    def get_info(self):\n",
    "        return f\"{self.brand} {self.model} year {self.year}, color {self.color}\"\n",
    "\n"
   ]
  },
  {
   "cell_type": "code",
   "execution_count": 19,
   "id": "5bfacc4d",
   "metadata": {},
   "outputs": [],
   "source": [
    "class Car(Vehicle):\n",
    "    def __init__(self, brand, model, year, color, body_type, num_doors):\n",
    "        super().__init__(brand, model, year, color) # The init method of the parent class is called\n",
    "        self.body_type = body_type\n",
    "        self.num_doors = num_doors\n",
    "    \n",
    "    def start(self):\n",
    "        return \"The car has been started.\"\n",
    "    \n",
    "    def stop(self):\n",
    "        return \"The car has been stopped.\"\n",
    "\n"
   ]
  },
  {
   "cell_type": "code",
   "execution_count": 14,
   "id": "9ea0ace7",
   "metadata": {},
   "outputs": [],
   "source": [
    "class Plane(Vehicle):\n",
    "    def __init__(self, brand, model, year, color, engine_type, num_seats):\n",
    "        super().__init__(brand, model, year, color)\n",
    "        self.engine_type = engine_type\n",
    "        self.num_seats = num_seats\n",
    "    \n",
    "    def take_off(self):\n",
    "        return \"The plane has initiated take-off.\"\n",
    "    \n",
    "    def land(self):\n",
    "        return \"The plane has landed safely.\"\n",
    "\n"
   ]
  },
  {
   "cell_type": "code",
   "execution_count": 20,
   "id": "3441fae7",
   "metadata": {},
   "outputs": [
    {
     "name": "stdout",
     "output_type": "stream",
     "text": [
      "New car\n",
      "\n",
      "Toyota Corolla year 2022, color Blue\n",
      "The car has been started.\n",
      "\n",
      "New plane\n",
      "\n",
      "Boeing 747 year 2010, color White\n",
      "The plane has initiated take-off.\n"
     ]
    }
   ],
   "source": [
    "# Example usage\n",
    "\n",
    "print('New car\\n')\n",
    "\n",
    "my_car = Car(\"Toyota\", \"Corolla\", 2022, \"Blue\", \"sedan\", 4)\n",
    "print(my_car.get_info()) # método de la clase padre\n",
    "print(my_car.start())\n",
    "\n",
    "\n",
    "print('\\nNew plane\\n')\n",
    "\n",
    "my_plane = Plane(\"Boeing\", \"747\", 2010, \"White\", \"jet\", 300)\n",
    "print(my_plane.get_info())\n",
    "print(my_plane.take_off())"
   ]
  },
  {
   "cell_type": "markdown",
   "id": "301a579f",
   "metadata": {},
   "source": [
    "<a name=\"6\"></a>\n",
    "## <b> <font color=' #16a085'> 6. Polymorphism  </b> </font>\n",
    "\n",
    "Polymorphism is the ability of different objects to respond to the same message or method invocation in different ways. In Python, polymorphism is achieved through method overriding, where a method in a superclass is redefined by a subclass, providing different implementation while retaining the same method signature.\n",
    "\n",
    "Consider the following diagram:\n",
    "\n",
    "\n",
    "<img src=\"images/polymorphism.png\"/>\n"
   ]
  },
  {
   "cell_type": "code",
   "execution_count": 23,
   "id": "26cdcb60",
   "metadata": {},
   "outputs": [
    {
     "name": "stdout",
     "output_type": "stream",
     "text": [
      "Dog barks\n",
      "Cat meows\n",
      "Animal speaks\n"
     ]
    }
   ],
   "source": [
    "class Animal:\n",
    "    def speak(self):\n",
    "        return \"Animal speaks\"\n",
    "\n",
    "class Dog(Animal):\n",
    "    def speak(self):\n",
    "        return \"Dog barks\"\n",
    "\n",
    "class Cat(Animal):\n",
    "    def speak(self):\n",
    "        return \"Cat meows\"\n",
    "\n",
    "# Function that takes an Animal object and calls its speak method\n",
    "def animal_speak(animal):\n",
    "    return animal.speak()\n",
    "\n",
    "# Creating instances of different subclasses\n",
    "dog = Dog()\n",
    "cat = Cat()\n",
    "generic_animal = Animal()\n",
    "\n",
    "# Calling the function with different objects\n",
    "print(animal_speak(dog))  # Output: Dog barks\n",
    "print(animal_speak(cat))  # Output: Cat meows\n",
    "print(animal_speak(generic_animal))  # Output: Animal speaks\n"
   ]
  },
  {
   "cell_type": "markdown",
   "id": "b70f35b2",
   "metadata": {},
   "source": [
    "In this example, Animal is the superclass, and Dog and Cat are subclasses. Each subclass defines its own speak() method, overriding the speak() method of the superclass Animal. When we call animal_speak() function with different objects, it invokes the speak() method of each object according to its class, demonstrating polymorphic behavior."
   ]
  },
  {
   "cell_type": "markdown",
   "id": "a21675c9",
   "metadata": {},
   "source": [
    "<a name=\"7\"></a>\n",
    "## <b> <font color=' #16a085'> 7. Abstract Classes  </b> </font>"
   ]
  },
  {
   "cell_type": "markdown",
   "id": "781b2e95",
   "metadata": {},
   "source": [
    "Abstraction in programming refers to the concept of hiding the complex implementation details and showing only the necessary features of an object to the outside world. It allows us to focus on what an object does rather than how it achieves it."
   ]
  },
  {
   "cell_type": "code",
   "execution_count": 26,
   "id": "c2de8d09",
   "metadata": {},
   "outputs": [
    {
     "name": "stdout",
     "output_type": "stream",
     "text": [
      "Area of Rectangle: 50\n",
      "Perimeter of Rectangle: 30\n",
      "Area of Circle: 153.86\n",
      "Perimeter of Circle: 43.96\n"
     ]
    }
   ],
   "source": [
    "from abc import ABC, abstractmethod\n",
    "\n",
    "class Shape(ABC):\n",
    "    def __init__(self, name):\n",
    "        self.name = name\n",
    "\n",
    "    @abstractmethod\n",
    "    def area(self):\n",
    "        pass\n",
    "\n",
    "    @abstractmethod\n",
    "    def perimeter(self):\n",
    "        pass\n",
    "\n",
    "class Rectangle(Shape):\n",
    "    def __init__(self, name, width, height):\n",
    "        super().__init__(name)\n",
    "        self.width = width\n",
    "        self.height = height\n",
    "\n",
    "    def area(self):\n",
    "        return self.width * self.height\n",
    "\n",
    "    def perimeter(self):\n",
    "        return 2 * (self.width + self.height)\n",
    "\n",
    "class Circle(Shape):\n",
    "    def __init__(self, name, radius):\n",
    "        super().__init__(name)\n",
    "        self.radius = radius\n",
    "\n",
    "    def area(self):\n",
    "        return 3.14 * self.radius ** 2\n",
    "\n",
    "    def perimeter(self):\n",
    "        return 2 * 3.14 * self.radius\n",
    "\n",
    "# Creating instances of different shapes\n",
    "rectangle = Rectangle(\"Rectangle\", 5, 10)\n",
    "circle = Circle(\"Circle\", 7)\n",
    "\n",
    "# Printing area and perimeter of shapes without knowing their implementation details\n",
    "print(f\"Area of {rectangle.name}: {rectangle.area()}\")\n",
    "print(f\"Perimeter of {rectangle.name}: {rectangle.perimeter()}\")\n",
    "\n",
    "print(f\"Area of {circle.name}: {circle.area()}\")\n",
    "print(f\"Perimeter of {circle.name}: {circle.perimeter()}\")\n"
   ]
  },
  {
   "cell_type": "markdown",
   "id": "2621a698",
   "metadata": {},
   "source": [
    "In this example, the Shape class is an abstract base class (ABC) that defines two abstract methods area() and perimeter(). These methods are meant to be implemented by subclasses such as Rectangle and Circle. The Shape class serves as an abstraction that defines the common interface for all shapes, without specifying how each shape calculates its area and perimeter.\n",
    "\n",
    "By using abstraction, we can work with shapes without worrying about their internal details. We can simply call the area() and perimeter() methods on any shape object and expect them to behave as per their definition. This allows us to focus on the higher-level functionality of the shapes without getting bogged down in the specifics of each shape's implementation."
   ]
  },
  {
   "cell_type": "markdown",
   "id": "b82583df",
   "metadata": {},
   "source": [
    "<a name=\"8\"></a>\n",
    "## <b> <font color=' #16a085'> 8. Call method  </b> </font>\n",
    "\n",
    "The __call__() method is a special method that allows an object to be called as if it were a function. When you use the parentheses () on an object, Python will look for the __call__() method in that object and execute it.\n",
    "\n",
    "The primary purpose of the __call__() method is to make an object callable. This can be useful in various scenarios where you want an object to act like a function."
   ]
  },
  {
   "cell_type": "code",
   "execution_count": 2,
   "id": "2aae6860",
   "metadata": {},
   "outputs": [
    {
     "name": "stdout",
     "output_type": "stream",
     "text": [
      "8\n"
     ]
    }
   ],
   "source": [
    "class MyClass:\n",
    "    def __init__(self):\n",
    "        pass\n",
    "\n",
    "    def __call__(self, x, y):\n",
    "        return x + y\n",
    "\n",
    "# Creating an instance of MyClass\n",
    "obj = MyClass()\n",
    "\n",
    "# Using the object as if it were a function\n",
    "result = obj(3, 5)\n",
    "print(result)  # Output: 8\n"
   ]
  },
  {
   "cell_type": "markdown",
   "id": "8cd7d0b3",
   "metadata": {},
   "source": [
    "In this example, we define a class MyClass with the __call__() method. When we create an instance of MyClass and use it with parentheses, Python invokes the __call__() method of that instance, passing the arguments 3 and 5. The method then returns the sum of the arguments, which is 8.\n",
    "\n",
    "Overall, the __call__() method provides a way to give objects function-like behavior, allowing them to be used in a more intuitive and flexible manner. It's commonly used to create callable objects, such as function decorators, memoization objects, or custom callable objects with additional state."
   ]
  },
  {
   "cell_type": "markdown",
   "id": "08736b37",
   "metadata": {},
   "source": [
    "In TensorFlow, especially in the Subclassing API, the __call__() method is extensively used to build custom models and custom layers. The Subclassing API allows developers to create models and layers with more granular flexibility and control, which is often necessary for custom implementations and advanced experimentation.\n",
    "\n",
    "In the TensorFlow Subclassing API, you define a class that inherits from tf.keras.Model to define custom models and from tf.keras.layers.Layer to define custom layers. These classes can implement the __call__() method to define the behavior of the class when called as a function.\n",
    "\n",
    "Here's a simple example of how __call__() can be used in TensorFlow with the Subclassing API to define a custom layer:"
   ]
  },
  {
   "cell_type": "code",
   "execution_count": 35,
   "id": "a6015e19",
   "metadata": {},
   "outputs": [
    {
     "name": "stdout",
     "output_type": "stream",
     "text": [
      "Dimensiones de los conjuntos de datos:\n",
      "X_train: (800, 5)\n",
      "y_train: (800,)\n",
      "X_test: (200, 5)\n",
      "y_test: (200,)\n"
     ]
    }
   ],
   "source": [
    "import numpy as np\n",
    "from sklearn.model_selection import train_test_split\n",
    "import tensorflow as tf\n",
    "\n",
    "#Generate feature data (inputs)\n",
    "#Let's assume we have 1000 examples and each example has 5 features\"\n",
    "num_examples = 1000\n",
    "num_features = 5\n",
    "X = np.random.randn(num_examples, num_features)  # Generate random data\n",
    "\n",
    "#\"Generate label data (targets)\n",
    "#Let's assume each example has a single label\n",
    "#We can use a linear function with added noise to generate the labels\n",
    "#y = 2x1 - 3x2 + 1.5x3 - 1x4 + 0.5x5 + noise\n",
    "#Where x1, x2, ..., x5 are the features and the noise is random\"\n",
    "y = 2*X[:, 0] - 3*X[:, 1] + 1.5*X[:, 2] - 1*X[:, 3] + 0.5*X[:, 4] + np.random.randn(num_examples)\n",
    "\n",
    "# Train/test split\n",
    "X_train, X_test, y_train, y_test = train_test_split(X, y, test_size=0.2, random_state=42)\n",
    "\n",
    "# Check\n",
    "print(\"Dimensiones de los conjuntos de datos:\")\n",
    "print(\"X_train:\", X_train.shape)\n",
    "print(\"y_train:\", y_train.shape)\n",
    "print(\"X_test:\", X_test.shape)\n",
    "print(\"y_test:\", y_test.shape)\n"
   ]
  },
  {
   "cell_type": "code",
   "execution_count": 36,
   "id": "9ec6b043",
   "metadata": {},
   "outputs": [
    {
     "name": "stdout",
     "output_type": "stream",
     "text": [
      "Epoch 1/10\n",
      "(32, 5)\n",
      "(32, 64)\n",
      "25/25 [==============================] - 0s 6ms/step - loss: 15.9107 - mae: 3.1425 - val_loss: 13.2241 - val_mae: 2.9734\n",
      "Epoch 2/10\n",
      "25/25 [==============================] - 0s 3ms/step - loss: 14.4927 - mae: 2.9964 - val_loss: 11.4515 - val_mae: 2.7704\n",
      "Epoch 3/10\n",
      "25/25 [==============================] - 0s 2ms/step - loss: 11.6118 - mae: 2.6829 - val_loss: 8.5212 - val_mae: 2.3876\n",
      "Epoch 4/10\n",
      "25/25 [==============================] - 0s 2ms/step - loss: 7.7386 - mae: 2.2031 - val_loss: 5.3358 - val_mae: 1.8732\n",
      "Epoch 5/10\n",
      "25/25 [==============================] - 0s 2ms/step - loss: 4.3067 - mae: 1.6606 - val_loss: 3.0107 - val_mae: 1.3869\n",
      "Epoch 6/10\n",
      "25/25 [==============================] - 0s 2ms/step - loss: 2.3227 - mae: 1.2126 - val_loss: 1.8152 - val_mae: 1.0737\n",
      "Epoch 7/10\n",
      "25/25 [==============================] - 0s 2ms/step - loss: 1.4370 - mae: 0.9583 - val_loss: 1.3342 - val_mae: 0.9252\n",
      "Epoch 8/10\n",
      "25/25 [==============================] - 0s 2ms/step - loss: 1.1275 - mae: 0.8456 - val_loss: 1.1599 - val_mae: 0.8667\n",
      "Epoch 9/10\n",
      "25/25 [==============================] - 0s 3ms/step - loss: 1.0214 - mae: 0.8054 - val_loss: 1.1200 - val_mae: 0.8479\n",
      "Epoch 10/10\n",
      "25/25 [==============================] - 0s 2ms/step - loss: 0.9902 - mae: 0.7933 - val_loss: 1.1100 - val_mae: 0.8403\n",
      "7/7 [==============================] - 0s 2ms/step - loss: 1.1100 - mae: 0.8403\n",
      "Loss en los datos de prueba: 1.1099605560302734\n",
      "MAE en los datos de prueba: 0.8403140306472778\n"
     ]
    }
   ],
   "source": [
    "\n",
    "class CustomDenseLayer(tf.keras.layers.Layer):\n",
    "    def __init__(self, units):\n",
    "        super(CustomDenseLayer, self).__init__()\n",
    "        self.units = units\n",
    "\n",
    "    def build(self, input_shape):\n",
    "        print(input_shape)  # Imprime la forma de la entrada durante la construcción\n",
    "        self.w = self.add_weight(shape=(input_shape[-1], self.units),\n",
    "                                 initializer='random_normal',\n",
    "                                 trainable=True)\n",
    "        self.b = self.add_weight(shape=(self.units,),\n",
    "                                 initializer='zeros',\n",
    "                                 trainable=True)\n",
    "\n",
    "    def call(self, inputs):\n",
    "        return tf.matmul(inputs, self.w) + self.b\n",
    "\n",
    "\n",
    "class CustomModel(tf.keras.Model):\n",
    "    def __init__(self):\n",
    "        super(CustomModel, self).__init__()\n",
    "        self.layer1 = CustomDenseLayer(64)\n",
    "        self.layer2 = CustomDenseLayer(10)\n",
    "\n",
    "    def call(self, inputs):\n",
    "        x = self.layer1(inputs)\n",
    "        return self.layer2(x)\n",
    "\n",
    "# Instanciate the model\n",
    "model = CustomModel()\n",
    "\n",
    "# Compile\n",
    "model.compile(optimizer='adam',\n",
    "              loss='mse',  # Mean Squared Error\n",
    "              metrics=['mae'])  # Mean Absolute Error\n",
    "\n",
    "# Train\n",
    "model.fit(X_train, y_train, epochs=10, batch_size=32, validation_data=(X_test, y_test))\n",
    "\n",
    "# Evaluate\n",
    "loss, mae = model.evaluate(X_test, y_test)\n",
    "print(\"Loss en los datos de prueba:\", loss)\n",
    "print(\"MAE en los datos de prueba:\", mae)\n"
   ]
  },
  {
   "cell_type": "markdown",
   "id": "9aa26d46",
   "metadata": {},
   "source": [
    "In this example, the CustomDenseLayer class defines a custom dense layer that implements matrix multiplication and bias addition in its call() method. Then, the CustomModel class defines a custom model that uses two CustomDenseLayer layers in its call() method to define the behavior of the model when called.\n",
    "\n",
    "This approach provides great flexibility for defining custom models and layers in TensorFlow using the Subclassing API and the __call__() method."
   ]
  },
  {
   "cell_type": "code",
   "execution_count": null,
   "id": "205ea77e",
   "metadata": {},
   "outputs": [],
   "source": []
  }
 ],
 "metadata": {
  "kernelspec": {
   "display_name": "Python 3 (ipykernel)",
   "language": "python",
   "name": "python3"
  },
  "language_info": {
   "codemirror_mode": {
    "name": "ipython",
    "version": 3
   },
   "file_extension": ".py",
   "mimetype": "text/x-python",
   "name": "python",
   "nbconvert_exporter": "python",
   "pygments_lexer": "ipython3",
   "version": "3.10.12"
  }
 },
 "nbformat": 4,
 "nbformat_minor": 5
}
