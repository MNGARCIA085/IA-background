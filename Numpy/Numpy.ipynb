{
 "cells": [
  {
   "cell_type": "markdown",
   "id": "82677275",
   "metadata": {},
   "source": [
    "# <center> <font color='green'> <b> NUMPY </b> </font> </center>"
   ]
  },
  {
   "cell_type": "markdown",
   "id": "afcc7bea",
   "metadata": {},
   "source": [
    "## Table of contents\n",
    "- [1 - Import](#1)\n",
    "- [2 - Indexing](#2)\n",
    "\n"
   ]
  },
  {
   "cell_type": "markdown",
   "id": "3fde8b86",
   "metadata": {},
   "source": [
    "<a name=\"1\"></a>\n",
    "## <b> <font color=' #16a085'> 1. Import </b> </font>"
   ]
  },
  {
   "cell_type": "code",
   "execution_count": 8,
   "id": "b04f176b",
   "metadata": {},
   "outputs": [],
   "source": [
    "import numpy as np"
   ]
  },
  {
   "cell_type": "markdown",
   "id": "d11c4878",
   "metadata": {},
   "source": [
    "<a name=\"2\"></a>\n",
    "## <b> <font color=' #16a085'> 2. Indexing and slicing </b> </font>"
   ]
  },
  {
   "cell_type": "markdown",
   "id": "4f5499c8",
   "metadata": {},
   "source": [
    "### 1D Arrays"
   ]
  },
  {
   "cell_type": "code",
   "execution_count": 25,
   "id": "213d4953",
   "metadata": {},
   "outputs": [
    {
     "data": {
      "text/plain": [
       "array([ 1,  2,  3,  4,  5,  6,  7,  8,  9, 10, 11, 12, 13, 14, 15, 16, 17,\n",
       "       18, 19, 20])"
      ]
     },
     "execution_count": 25,
     "metadata": {},
     "output_type": "execute_result"
    }
   ],
   "source": [
    "x = np.arange(1,21)\n",
    "x"
   ]
  },
  {
   "cell_type": "code",
   "execution_count": 22,
   "id": "791729db",
   "metadata": {},
   "outputs": [
    {
     "data": {
      "text/plain": [
       "array([17, 18, 19, 20])"
      ]
     },
     "execution_count": 22,
     "metadata": {},
     "output_type": "execute_result"
    }
   ],
   "source": [
    "x[-4:] # last 4"
   ]
  },
  {
   "cell_type": "code",
   "execution_count": 33,
   "id": "e6048998",
   "metadata": {},
   "outputs": [
    {
     "data": {
      "text/plain": [
       "array([ 6,  7,  8,  9, 10, 11, 12, 13, 14, 15, 16, 17, 18, 19, 20])"
      ]
     },
     "execution_count": 33,
     "metadata": {},
     "output_type": "execute_result"
    }
   ],
   "source": [
    "# elements from the index 5 onwards\n",
    "x[5:]"
   ]
  },
  {
   "cell_type": "code",
   "execution_count": 27,
   "id": "aab1f48c",
   "metadata": {},
   "outputs": [
    {
     "data": {
      "text/plain": [
       "4"
      ]
     },
     "execution_count": 27,
     "metadata": {},
     "output_type": "execute_result"
    }
   ],
   "source": [
    "x[3] # third element"
   ]
  },
  {
   "cell_type": "code",
   "execution_count": 28,
   "id": "83d80f1e",
   "metadata": {},
   "outputs": [
    {
     "data": {
      "text/plain": [
       "array([18, 16, 14, 12, 10,  8,  6])"
      ]
     },
     "execution_count": 28,
     "metadata": {},
     "output_type": "execute_result"
    }
   ],
   "source": [
    "# From the third element from the back, to the third element, with a step of -2; \n",
    "#it does not include the third element\n",
    "x[-3:3:-2] "
   ]
  },
  {
   "cell_type": "code",
   "execution_count": null,
   "id": "dd5c4390",
   "metadata": {},
   "outputs": [],
   "source": []
  },
  {
   "cell_type": "code",
   "execution_count": null,
   "id": "55ae09fe",
   "metadata": {},
   "outputs": [],
   "source": []
  },
  {
   "cell_type": "markdown",
   "id": "1d3533e6",
   "metadata": {},
   "source": [
    "### 3D Arrays\n",
    "\n",
    "A 3D array is like a stack of matrices:\n",
    "\n",
    "- The first index, i, selects the matrix\n",
    "- The second index, j, selects the row\n",
    "- The third index, k, selects the column"
   ]
  },
  {
   "cell_type": "markdown",
   "id": "6858e33e",
   "metadata": {},
   "source": [
    "<img src=\"images/3d_array.png\"/>"
   ]
  },
  {
   "cell_type": "code",
   "execution_count": 10,
   "id": "787ea970",
   "metadata": {},
   "outputs": [
    {
     "name": "stdout",
     "output_type": "stream",
     "text": [
      "[[ 0  1  2  3]\n",
      " [ 4  5  6  7]\n",
      " [ 8  9 10 11]] \n",
      "\n",
      "(3, 4)\n"
     ]
    }
   ],
   "source": [
    "# first dimension represents the slices within each layer\n",
    "\n",
    "\n",
    "# first layer\n",
    "print(a[0,:,:],\"\\n\") # primera profundidad\n",
    "print(a[0,:,:].shape) # 3 filas, 4 columnas\n",
    "\n"
   ]
  },
  {
   "cell_type": "markdown",
   "id": "05f7ec68",
   "metadata": {},
   "source": [
    "<img src=\"images/first_layer.png\"/>"
   ]
  },
  {
   "cell_type": "code",
   "execution_count": 14,
   "id": "b182ea07",
   "metadata": {},
   "outputs": [
    {
     "name": "stdout",
     "output_type": "stream",
     "text": [
      "[[12 13 14 15]\n",
      " [16 17 18 19]\n",
      " [20 21 22 23]] \n",
      "\n",
      "(3, 4)\n"
     ]
    }
   ],
   "source": [
    "# second layer\n",
    "print(a[1,:,:],\"\\n\") # primera profundidad\n",
    "print(a[1,:,:].shape) # 3 filas, 4 columnas"
   ]
  },
  {
   "cell_type": "markdown",
   "id": "0d9fb78d",
   "metadata": {},
   "source": [
    "<img src=\"images/second_layer.png\">"
   ]
  },
  {
   "cell_type": "code",
   "execution_count": 15,
   "id": "1171c1d5",
   "metadata": {},
   "outputs": [
    {
     "name": "stdout",
     "output_type": "stream",
     "text": [
      "[[ 0  1  2  3]\n",
      " [12 13 14 15]] \n",
      "\n",
      "(2, 4)\n"
     ]
    }
   ],
   "source": [
    "# second dimension (rows in each layer)\n",
    "\n",
    "# first row of each layer\n",
    "print(a[:,0,:],\"\\n\")\n",
    "print(a[:,0,:].shape) "
   ]
  },
  {
   "cell_type": "markdown",
   "id": "2e75e76b",
   "metadata": {},
   "source": [
    "<img src=\"images/first_row.png\"/>"
   ]
  },
  {
   "cell_type": "code",
   "execution_count": 16,
   "id": "bfcbe3e1",
   "metadata": {},
   "outputs": [
    {
     "name": "stdout",
     "output_type": "stream",
     "text": [
      "[[ 8  9 10 11]\n",
      " [20 21 22 23]] \n",
      "\n",
      "(2, 4)\n"
     ]
    }
   ],
   "source": [
    "# second row of each layer\n",
    "\n",
    "# third row of each layer\n",
    "print(a[:,2,:],\"\\n\")\n",
    "print(a[:,2,:].shape) "
   ]
  },
  {
   "cell_type": "markdown",
   "id": "7df2b4d8",
   "metadata": {},
   "source": [
    "<img src=\"images/third_row.png\"/>"
   ]
  },
  {
   "cell_type": "code",
   "execution_count": 13,
   "id": "7d4666e7",
   "metadata": {},
   "outputs": [
    {
     "name": "stdout",
     "output_type": "stream",
     "text": [
      "[[ 0  4  8]\n",
      " [12 16 20]] \n",
      "\n",
      "(2, 3)\n"
     ]
    }
   ],
   "source": [
    "\n",
    "# third dimension (columns in each layer)\n",
    "\n",
    "# first column of each layer\n",
    "print(a[:,:,0],\"\\n\")\n",
    "print(a[:,:,0].shape) \n",
    "\n"
   ]
  },
  {
   "cell_type": "markdown",
   "id": "7aaa0e5b",
   "metadata": {},
   "source": [
    "<img src=\"images/first_column.png\"/>"
   ]
  },
  {
   "cell_type": "code",
   "execution_count": 17,
   "id": "be77bb20",
   "metadata": {},
   "outputs": [
    {
     "name": "stdout",
     "output_type": "stream",
     "text": [
      "[[ 1  5  9]\n",
      " [13 17 21]] \n",
      "\n",
      "(2, 3)\n"
     ]
    }
   ],
   "source": [
    "# second column of each layer\n",
    "print(a[:,:,1],\"\\n\")\n",
    "print(a[:,:,1].shape) "
   ]
  },
  {
   "cell_type": "markdown",
   "id": "83d87790",
   "metadata": {},
   "source": [
    "<img src=\"images/second_column.png\"/>"
   ]
  },
  {
   "cell_type": "code",
   "execution_count": 14,
   "id": "eb9a9fb5",
   "metadata": {},
   "outputs": [
    {
     "name": "stdout",
     "output_type": "stream",
     "text": [
      "[1 5 9]\n",
      "(3,)\n"
     ]
    }
   ],
   "source": [
    "# second column of the first layer\n",
    "\n",
    "print(a[0,:,1]) # first layer, all rows, second column\n",
    "print(a[0,:,1].shape)"
   ]
  },
  {
   "cell_type": "markdown",
   "id": "f62e163a",
   "metadata": {},
   "source": [
    "<img src=\"images/second_col_first_layer.png\"/>"
   ]
  },
  {
   "cell_type": "code",
   "execution_count": 17,
   "id": "141b7ba5",
   "metadata": {},
   "outputs": [
    {
     "name": "stdout",
     "output_type": "stream",
     "text": [
      "[[[ 2  3]\n",
      "  [ 6  7]\n",
      "  [10 11]]\n",
      "\n",
      " [[14 15]\n",
      "  [18 19]\n",
      "  [22 23]]]\n",
      "(2, 3, 2)\n"
     ]
    }
   ],
   "source": [
    "# last 2 columns of each layer\n",
    "\n",
    "print(a[:,:,2:]) \n",
    "print(a[:,:,2:].shape)"
   ]
  },
  {
   "cell_type": "markdown",
   "id": "e0e6e232",
   "metadata": {},
   "source": [
    "<img src=\"images/last_two_cols.png\"/>"
   ]
  },
  {
   "cell_type": "code",
   "execution_count": 18,
   "id": "8d0416a5",
   "metadata": {},
   "outputs": [
    {
     "name": "stdout",
     "output_type": "stream",
     "text": [
      "[ 8  9 10 11]\n",
      "(4,)\n"
     ]
    }
   ],
   "source": [
    "# last row of first layer\n",
    "\n",
    "print(a[0,-1,:]) \n",
    "print(a[0,-1,:].shape)"
   ]
  },
  {
   "cell_type": "markdown",
   "id": "9785a220",
   "metadata": {},
   "source": [
    "<img src=\"images/last_row_first_layer.png\"/>"
   ]
  },
  {
   "cell_type": "code",
   "execution_count": 35,
   "id": "1f0839e9",
   "metadata": {},
   "outputs": [
    {
     "data": {
      "text/plain": [
       "array([[ 0,  4,  8],\n",
       "       [12, 16, 20]])"
      ]
     },
     "execution_count": 35,
     "metadata": {},
     "output_type": "execute_result"
    }
   ],
   "source": [
    "a[...,0] # same as x[:,:,0]"
   ]
  },
  {
   "cell_type": "code",
   "execution_count": 36,
   "id": "9811af0e",
   "metadata": {},
   "outputs": [
    {
     "data": {
      "text/plain": [
       "array([[ 0,  1,  2,  3],\n",
       "       [ 4,  5,  6,  7],\n",
       "       [ 8,  9, 10, 11]])"
      ]
     },
     "execution_count": 36,
     "metadata": {},
     "output_type": "execute_result"
    }
   ],
   "source": [
    "a[0,...] # same as a[0,:,:]"
   ]
  },
  {
   "cell_type": "code",
   "execution_count": null,
   "id": "08e2d767",
   "metadata": {},
   "outputs": [],
   "source": []
  },
  {
   "cell_type": "code",
   "execution_count": null,
   "id": "f6568259",
   "metadata": {},
   "outputs": [],
   "source": []
  },
  {
   "cell_type": "code",
   "execution_count": null,
   "id": "f96302f1",
   "metadata": {},
   "outputs": [],
   "source": []
  },
  {
   "cell_type": "markdown",
   "id": "43ed396f",
   "metadata": {},
   "source": [
    "Each newaxis object in the selection tuple serves to expand the dimensions of the resulting selection by one unit-length dimension. The added dimension is the position of the newaxis object in the selection tuple. newaxis is an alias for None, and None can be used in place of this with the same result. From the above example:"
   ]
  },
  {
   "cell_type": "code",
   "execution_count": 87,
   "id": "961226f1",
   "metadata": {},
   "outputs": [
    {
     "name": "stdout",
     "output_type": "stream",
     "text": [
      "(2, 3, 1)\n"
     ]
    },
    {
     "data": {
      "text/plain": [
       "(2, 1, 3, 1)"
      ]
     },
     "execution_count": 87,
     "metadata": {},
     "output_type": "execute_result"
    }
   ],
   "source": [
    "print(x.shape)\n",
    "\n",
    "x[:, np.newaxis, :, :].shape"
   ]
  },
  {
   "cell_type": "code",
   "execution_count": null,
   "id": "2c2e8522",
   "metadata": {},
   "outputs": [],
   "source": []
  }
 ],
 "metadata": {
  "kernelspec": {
   "display_name": "Python 3 (ipykernel)",
   "language": "python",
   "name": "python3"
  },
  "language_info": {
   "codemirror_mode": {
    "name": "ipython",
    "version": 3
   },
   "file_extension": ".py",
   "mimetype": "text/x-python",
   "name": "python",
   "nbconvert_exporter": "python",
   "pygments_lexer": "ipython3",
   "version": "3.10.12"
  }
 },
 "nbformat": 4,
 "nbformat_minor": 5
}
